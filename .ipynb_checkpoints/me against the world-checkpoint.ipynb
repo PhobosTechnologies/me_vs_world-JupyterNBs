{
 "cells": [
  {
   "cell_type": "code",
   "execution_count": 2,
   "metadata": {},
   "outputs": [],
   "source": [
    "import numpy as np\n",
    "import matplotlib as mpl\n",
    "import matplotlib.pyplot as plt"
   ]
  },
  {
   "cell_type": "code",
   "execution_count": null,
   "metadata": {
    "pycharm": {
     "name": "#%%\n"
    }
   },
   "outputs": [],
   "source": [
    "# STARTING VARIABLES\n",
    "ORBITS_PER_SIMULATION   = 100 # years\n",
    "REVOLUTIONS_PER_ORBIT   = 365 # days\n",
    "ARCS_PER_REVOLUTION     = 24 # hours\n",
    "\n",
    "\n",
    "class Agent:\n",
    "    energy  = 100\n",
    "    money   = 100\n",
    "    def __init__(self):\n",
    "        self.energy = 3\n",
    "        self.money = 6\n",
    "\n",
    "\n",
    "class Me(Agent):\n",
    "\n",
    "    def __init__(self):\n",
    "        super().__init__()\n",
    "\n",
    "\n",
    "class World(Agent):\n",
    "\n",
    "    def __init__(self):\n",
    "        super().__init__()\n",
    "\n",
    "\n",
    "me = Me()\n",
    "wd = World()\n",
    "\n",
    "# GAME LOOP\n",
    "# orbits    -> revolutions  -> arcs\n",
    "# years     -> days         -> hours\n",
    "for standard_orbit in range(ORBITS_PER_SIMULATION):\n",
    "    for standard_revolution in range(REVOLUTIONS_PER_ORBIT):\n",
    "        for standard_arc in range(ARCS_PER_REVOLUTION):\n",
    "\n",
    "            me.move(standard_arc)\n",
    "            wd.move(standard_arc)\n",
    "\n",
    "\n",
    "\n",
    "\n",
    "\n",
    "\n",
    "\n",
    "\n",
    "\n",
    "\n",
    "\n"
   ]
  },
  {
   "cell_type": "code",
   "execution_count": 5,
   "metadata": {
    "pycharm": {
     "name": "#%%\n"
    }
   },
   "outputs": [
    {
     "data": {
      "image/png": "[encoded data removed]",
      "text/plain": [
       "<Figure size 432x288 with 1 Axes>"
      ]
     },
     "metadata": {
      "needs_background": "light"
     },
     "output_type": "display_data"
    }
   ],
   "source": [
    "X = np.linspace(0, 2*np.pi, 100)\n",
    "Y = np.cos(X)\n",
    "fig, ax = plt.subplots()\n",
    "ax.plot(X,Y,color='C1')\n",
    "fig.savefig(\"figure.pdf\")\n",
    "# fig.show()"
   ]
  },
  {
   "cell_type": "code",
   "execution_count": null,
   "metadata": {},
   "outputs": [],
   "source": []
  }
 ],
 "metadata": {
  "kernelspec": {
   "display_name": "Python 3 (ipykernel)",
   "language": "python",
   "name": "python3"
  },
  "language_info": {
   "codemirror_mode": {
    "name": "ipython",
    "version": 3
   },
   "file_extension": ".py",
   "mimetype": "text/x-python",
   "name": "python",
   "nbconvert_exporter": "python",
   "pygments_lexer": "ipython3",
   "version": "3.8.6"
  }
 },
 "nbformat": 4,
 "nbformat_minor": 1
}
