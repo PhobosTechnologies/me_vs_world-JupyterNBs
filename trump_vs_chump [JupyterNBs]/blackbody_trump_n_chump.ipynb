{
 "cells": [
  {
   "cell_type": "code",
   "execution_count": 9,
   "metadata": {
    "collapsed": true
   },
   "outputs": [
    {
     "data": {
      "text/plain": "'\\n\\nOnly two agents will be spawned.\\nThis will be a simple sim based on the\\nexample I thought of when I was on my mission.\\nOnly two agents exist in an entire universe with limited amount of\\n\"starstuff\".\\nStarstuff is used to make energy for the agent, to fashion into coinage, to create tools and materials\\nand to trade in commercial transactions.\\n\\nTrump controls all of the starstuff and maintains full control over Chump for one simple reason: Trump possesses\\nthe ability to convert starstuff into consumable energy which allows both of them to survive.\\n\\nChump works for Trump; performing several jobs in exchange for payment in starcoins.\\nChump\\'s jobs are:\\n    1. mine starstuff\\n    2. mint starcoins from starstuff\\n    3. construct usable machines and assemblies from starstuff (cars, homes, batteries, ... whatever)\\n\\n'"
     },
     "execution_count": 9,
     "metadata": {},
     "output_type": "execute_result"
    }
   ],
   "source": [
    "import numpy as np\n",
    "import pandas as pd\n",
    "\n",
    "\"\"\"\n",
    "\n",
    "Only two agents will be spawned.\n",
    "This will be a simple sim based on the\n",
    "example I thought of when I was on my mission.\n",
    "Only two agents exist in an entire universe with limited amount of\n",
    "\"starstuff\".\n",
    "Starstuff is used to make energy for the agent, to fashion into coinage, to create tools and materials\n",
    "and to trade in commercial transactions.\n",
    "\n",
    "Trump controls all of the starstuff and maintains full control over Chump for one simple reason: Trump possesses\n",
    "the ability to convert starstuff into consumable energy which allows both of them to survive.\n",
    "\n",
    "Chump works for Trump; performing several jobs in exchange for payment in starcoins.\n",
    "Chump's jobs are:\n",
    "    1. mine starstuff\n",
    "    2. mint starcoins from starstuff\n",
    "    3. construct usable machines and assemblies from starstuff (cars, homes, batteries, ... whatever)\n",
    "\n",
    "\"\"\"\n",
    "\n"
   ]
  },
  {
   "cell_type": "code",
   "execution_count": 10,
   "outputs": [],
   "source": [
    "\n",
    "# STARTING VARIABLES\n",
    "\n",
    "# ORBITS_PER_SIMULATION   = 100 # years\n",
    "# REVOLUTIONS_PER_ORBIT   = 365 # days\n",
    "# ARCS_PER_REVOLUTION     = 24 # hours\n",
    "ORBITS_PER_SIMULATION   = 1 # years\n",
    "REVOLUTIONS_PER_ORBIT   = 20 # days\n",
    "ARCS_PER_REVOLUTION     = 24 # hours\n",
    "\n",
    "miniverse_starstuff_total   = 2985984 # 2985984 because it's a cubic number and that's how I imagined it ... deal with it\n",
    "\n",
    "# agents' starting values\n",
    "starting_values = dict()\n",
    "starting_values['energy'] = 240\n",
    "starting_values['food'] = 240\n",
    "\n",
    "# stuff to food conversion ratio\n",
    "starstuff_2_starfood        = 40 # 1 starstuff makes 40 starfoods\n"
   ],
   "metadata": {
    "collapsed": false,
    "pycharm": {
     "name": "#%%\n"
    }
   }
  },
  {
   "cell_type": "code",
   "execution_count": 11,
   "outputs": [],
   "source": [
    "\n",
    "class Action:\n",
    "\n",
    "    action_name                 = '_NULL_'\n",
    "    hourly_energy_expenditure   = 0 # how much energy is necessary per single hour of this action\n",
    "\n"
   ],
   "metadata": {
    "collapsed": false,
    "pycharm": {
     "name": "#%%\n"
    }
   }
  },
  {
   "cell_type": "code",
   "execution_count": 12,
   "outputs": [],
   "source": [
    "\n",
    "# keep the list minimal\n",
    "# I think the following list should do:\n",
    "#   1. house\n",
    "#   2. car\n",
    "#   3. THE utility (phone, electric, water, sewer, internet ... all wrapped up into one)\n",
    "#   4. fringe possessions (clothes, furniture, electronics, etc. all wrapped up into one)\n",
    "class Possession:\n",
    "\n",
    "    # what is necessary to create this item\n",
    "    creation_values = dict()\n",
    "    creation_values['starstuff']    = 0 # how much star stuff was used to make it\n",
    "    creation_values['energy']       = 0 # how much energy expended to make it\n",
    "\n",
    "    # monetary values\n",
    "    starcoin_values = dict()\n",
    "    starcoin_values['new']      = 0\n",
    "    starcoin_values['current']  = 0\n",
    "\n",
    "    # as close to \"inherent\" value as this can get\n",
    "    deterioration_metrics = dict()\n",
    "    # how strong it is right after manufacture?\n",
    "    # Below 75% of it's starting quality will render it unusable\n",
    "    deterioration_metrics['starting_quality']        = 0 # ranges from 0 to 100 percent\n",
    "    deterioration_metrics['current_quality']         = 0 # ranges from 0 to 100 percent\n",
    "    deterioration_metrics['temporal_depreciation']   = 0 # linear wear and tear per hour\n",
    "    deterioration_metrics['wear_and_tear']           = 0 # accelerated wear and tear when in use\n",
    "\n",
    "    # this catalogues how much more efficient some particular action is\n",
    "    # when this particular possession is in use\n",
    "    # (ie: what this possession was designed to help with)\n",
    "    purpose = dict()\n",
    "    purpose['action'] = ''       # which agent action was this possession manufactured to help with?\n",
    "    purpose['effect'] = ''\n",
    "\n"
   ],
   "metadata": {
    "collapsed": false,
    "pycharm": {
     "name": "#%%\n"
    }
   }
  },
  {
   "cell_type": "code",
   "execution_count": 13,
   "outputs": [],
   "source": [
    "\n",
    "class S3DS_Agent:\n",
    "\n",
    "    energy = 0\n",
    "\n",
    "    starstuff = 0\n",
    "    starcoins = 0\n",
    "    starfood  = 0\n",
    "\n",
    "    possessions = list()\n",
    "\n",
    "    def __init__(self, starting_vals:dict):\n",
    "        self.energy     = starting_vals['energy']\n",
    "        self.starfood   = starting_vals['food']\n",
    "\n",
    "    def move(self, hour):\n",
    "\n",
    "        energy_expended = 0\n",
    "\n",
    "        # assign a schedule for both agents (we can keep it simple and give them both the same schedule)\n",
    "        # NOTE: maximum daily energy expenditure, IF the schedule is perfectly followed\n",
    "        #       AND we calculate for the maximum possible expenditure for any one activity state\n",
    "        #       we get: 131 energy units (as is displayed below)\n",
    "\n",
    "        schedule = {0   :'sleep',       # 2\n",
    "                    1   :'sleep',       # 2\n",
    "                    2   :'sleep',       # 2\n",
    "                    3   :'sleep',       # 2\n",
    "                    4   :'sleep',       # 2\n",
    "                    5   :'sleep',       # 2\n",
    "                    6   :'daily_prep',  # 4\n",
    "                    7   :'eat',         # 3\n",
    "                    8   :'travel',      # 3\n",
    "                    9   :'work',        # 5 to 10\n",
    "                    10  :'work',        # 5 to 10\n",
    "                    11  :'work',        # 5 to 10\n",
    "                    12  :'work',        # 5 to 10\n",
    "                    13  :'eat',         # 3\n",
    "                    14  :'work',        # 5 to 10\n",
    "                    15  :'work',        # 5 to 10\n",
    "                    16  :'work',        # 5 to 10\n",
    "                    17  :'work',        # 5 to 10\n",
    "                    18  :'travel',      # 3\n",
    "                    19  :'exercise',    # 8 to 10\n",
    "                    20  :'eat',         # 3\n",
    "                    21  :'shop',        # 6\n",
    "                    22  :'sleep',       # 2\n",
    "                    23  :'sleep'}       # 2\n",
    "\n",
    "        if schedule[hour] == 'sleep':\n",
    "            self.sleep()\n",
    "        if schedule[hour] == 'daily_prep':\n",
    "            self.daily_prep()\n",
    "        if schedule[hour] == 'eat':\n",
    "            self.eat()\n",
    "        if schedule[hour] == 'travel':\n",
    "            self.travel()\n",
    "        if schedule[hour] == 'work':\n",
    "            self.work()\n",
    "        if schedule[hour] == 'exercise':\n",
    "            self.exercise()\n",
    "        if schedule[hour] == 'shop':\n",
    "            self.shop()\n",
    "\n",
    "        # for i in self.possessions:\n",
    "        #     energy_expended += i.required_energy_use\n",
    "\n",
    "    def sleep(self):\n",
    "        # energy used for sleeping\n",
    "        self.energy -= 2\n",
    "\n",
    "    def daily_prep(self):\n",
    "        # energy required for prepping\n",
    "        self.energy -= 4\n",
    "\n",
    "    def eat(self):\n",
    "        # energy require for eating\n",
    "        self.energy -= 3\n",
    "\n",
    "        # determine how much food is needed\n",
    "        # max daily expenditure (calculated above, at schedule) is 131\n",
    "        mde = 131\n",
    "        if self.energy < (mde//2):\n",
    "            # prepare a portion of food\n",
    "            self.starfood -= 1\n",
    "            # energy gained from eating\n",
    "            self.energy += starstuff_2_starfood\n",
    "\n",
    "    def travel(self):\n",
    "        self.energy -= 3\n",
    "\n",
    "    def exercise(self):\n",
    "        self.energy -= 10\n",
    "\n",
    "    def shop(self):\n",
    "        self.energy -= 6\n",
    "\n"
   ],
   "metadata": {
    "collapsed": false,
    "pycharm": {
     "name": "#%%\n"
    }
   }
  },
  {
   "cell_type": "code",
   "execution_count": 14,
   "outputs": [],
   "source": [
    "\n",
    "class Trump_Agent(S3DS_Agent):\n",
    "\n",
    "    def __init__(self, starting_vals):\n",
    "        super().__init__(starting_vals)\n",
    "\n",
    "    def work(self, req_for_job=10):\n",
    "        self.energy -= req_for_job\n",
    "        # decide what needs to be done next (inventory-wise)\n",
    "\n",
    "        # then order Chump to handle it\n",
    "\n"
   ],
   "metadata": {
    "collapsed": false,
    "pycharm": {
     "name": "#%%\n"
    }
   }
  },
  {
   "cell_type": "code",
   "execution_count": 15,
   "outputs": [],
   "source": [
    "class Chump_Agent(S3DS_Agent):\n",
    "\n",
    "    def __init__(self, starting_vals):\n",
    "        super().__init__(starting_vals)\n",
    "        pass\n",
    "\n",
    "    def work(self, req_for_job=10):\n",
    "        self.energy -= req_for_job\n",
    "        # take Trumps orders and complete them\n",
    "\n"
   ],
   "metadata": {
    "collapsed": false,
    "pycharm": {
     "name": "#%%\n"
    }
   }
  },
  {
   "cell_type": "code",
   "execution_count": 16,
   "outputs": [],
   "source": [
    "\n",
    "# PRE-LOOP PREPARATIONS\n",
    "\n",
    "# instantiate agents and prepare the \"board\"\n",
    "trump = Trump_Agent(starting_values)\n",
    "chump = Chump_Agent(starting_values)\n",
    "\n"
   ],
   "metadata": {
    "collapsed": false,
    "pycharm": {
     "name": "#%%\n"
    }
   }
  },
  {
   "cell_type": "code",
   "execution_count": 17,
   "outputs": [],
   "source": [
    "\n",
    "# GAME LOOP\n",
    "# orbits    -> revolutions  -> arcs\n",
    "# years     -> days         -> hours\n",
    "for standard_orbit in range(ORBITS_PER_SIMULATION):\n",
    "    for standard_revolution in range(REVOLUTIONS_PER_ORBIT):\n",
    "        for standard_arc in range(ARCS_PER_REVOLUTION):\n",
    "\n",
    "            trump.move(standard_arc)\n",
    "            chump.move(standard_arc)"
   ],
   "metadata": {
    "collapsed": false,
    "pycharm": {
     "name": "#%%\n"
    }
   }
  },
  {
   "cell_type": "code",
   "execution_count": null,
   "outputs": [],
   "source": [],
   "metadata": {
    "collapsed": false,
    "pycharm": {
     "name": "#%%\n"
    }
   }
  }
 ],
 "metadata": {
  "kernelspec": {
   "display_name": "Python 3",
   "language": "python",
   "name": "python3"
  },
  "language_info": {
   "codemirror_mode": {
    "name": "ipython",
    "version": 2
   },
   "file_extension": ".py",
   "mimetype": "text/x-python",
   "name": "python",
   "nbconvert_exporter": "python",
   "pygments_lexer": "ipython2",
   "version": "2.7.6"
  }
 },
 "nbformat": 4,
 "nbformat_minor": 0
}